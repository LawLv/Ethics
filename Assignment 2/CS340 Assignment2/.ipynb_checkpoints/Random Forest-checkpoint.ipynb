{
 "cells": [
  {
   "cell_type": "code",
   "execution_count": 1,
   "id": "aa1b3e5f",
   "metadata": {},
   "outputs": [
    {
     "ename": "NameError",
     "evalue": "name 'data' is not defined",
     "output_type": "error",
     "traceback": [
      "\u001b[1;31m---------------------------------------------------------------------------\u001b[0m",
      "\u001b[1;31mNameError\u001b[0m                                 Traceback (most recent call last)",
      "Cell \u001b[1;32mIn [1], line 25\u001b[0m\n\u001b[0;32m     19\u001b[0m \u001b[38;5;66;03m# Convert categorical features to one-hot encoding\u001b[39;00m\n\u001b[0;32m     20\u001b[0m categorical_features \u001b[38;5;241m=\u001b[39m [\u001b[38;5;124m'\u001b[39m\u001b[38;5;124mgender\u001b[39m\u001b[38;5;124m'\u001b[39m, \u001b[38;5;124m'\u001b[39m\u001b[38;5;124mage\u001b[39m\u001b[38;5;124m'\u001b[39m, \u001b[38;5;124m'\u001b[39m\u001b[38;5;124madmission_source_id\u001b[39m\u001b[38;5;124m'\u001b[39m, \u001b[38;5;124m'\u001b[39m\u001b[38;5;124mmedical_specialty\u001b[39m\u001b[38;5;124m'\u001b[39m,\n\u001b[0;32m     21\u001b[0m                         \u001b[38;5;124m'\u001b[39m\u001b[38;5;124mprimary_diagnosis\u001b[39m\u001b[38;5;124m'\u001b[39m, \u001b[38;5;124m'\u001b[39m\u001b[38;5;124mmax_glu_serum\u001b[39m\u001b[38;5;124m'\u001b[39m, \u001b[38;5;124m'\u001b[39m\u001b[38;5;124mA1Cresult\u001b[39m\u001b[38;5;124m'\u001b[39m, \u001b[38;5;124m'\u001b[39m\u001b[38;5;124minsulin\u001b[39m\u001b[38;5;124m'\u001b[39m, \u001b[38;5;124m'\u001b[39m\u001b[38;5;124mchange\u001b[39m\u001b[38;5;124m'\u001b[39m,\n\u001b[0;32m     22\u001b[0m                         \u001b[38;5;124m'\u001b[39m\u001b[38;5;124mdiabetesMed\u001b[39m\u001b[38;5;124m'\u001b[39m, \u001b[38;5;124m'\u001b[39m\u001b[38;5;124mmedicare\u001b[39m\u001b[38;5;124m'\u001b[39m, \u001b[38;5;124m'\u001b[39m\u001b[38;5;124mmedicaid\u001b[39m\u001b[38;5;124m'\u001b[39m, \u001b[38;5;124m'\u001b[39m\u001b[38;5;124mhad_emergency\u001b[39m\u001b[38;5;124m'\u001b[39m, \u001b[38;5;124m'\u001b[39m\u001b[38;5;124mhad_inpatient_days\u001b[39m\u001b[38;5;124m'\u001b[39m,\n\u001b[0;32m     23\u001b[0m                         \u001b[38;5;124m'\u001b[39m\u001b[38;5;124mhad_outpatient_days\u001b[39m\u001b[38;5;124m'\u001b[39m]\n\u001b[1;32m---> 25\u001b[0m encoded_data_train \u001b[38;5;241m=\u001b[39m pd\u001b[38;5;241m.\u001b[39mget_dummies(\u001b[43mdata\u001b[49m[features], columns\u001b[38;5;241m=\u001b[39mcategorical_features, drop_first\u001b[38;5;241m=\u001b[39m\u001b[38;5;28;01mTrue\u001b[39;00m)\n\u001b[0;32m     26\u001b[0m encoded_data_test \u001b[38;5;241m=\u001b[39m pd\u001b[38;5;241m.\u001b[39mget_dummies(data_test[features], columns\u001b[38;5;241m=\u001b[39mcategorical_features, drop_first\u001b[38;5;241m=\u001b[39m\u001b[38;5;28;01mTrue\u001b[39;00m)\n\u001b[0;32m     28\u001b[0m \u001b[38;5;66;03m# X_train,X_test,X_test,Y_test\u001b[39;00m\n",
      "\u001b[1;31mNameError\u001b[0m: name 'data' is not defined"
     ]
    }
   ],
   "source": [
    "import pandas as pd\n",
    "from sklearn.preprocessing import OneHotEncoder\n",
    "from sklearn.ensemble import RandomForestClassifier\n",
    "from sklearn.model_selection import train_test_split\n",
    "from sklearn.metrics import accuracy_score\n",
    "\n",
    "# Load the dataset\n",
    "data_train = pd.read_csv('Dataset/diabetic_preprocessed_train.csv')\n",
    "data_test = pd.read_csv('Dataset/diabetic_preprocessed_test.csv')\n",
    "\n",
    "# Define features and target variable\n",
    "features = ['gender', 'age', 'admission_source_id', 'time_in_hospital', 'medical_specialty',\n",
    "            'num_lab_procedures', 'num_procedures', 'num_medications', 'primary_diagnosis',\n",
    "            'number_diagnoses', 'max_glu_serum', 'A1Cresult', 'insulin', 'change',\n",
    "            'diabetesMed', 'medicare', 'medicaid', 'had_emergency', 'had_inpatient_days',\n",
    "            'had_outpatient_days']\n",
    "target = 'readmit_30_days'\n",
    "\n",
    "# Convert categorical features to one-hot encoding\n",
    "categorical_features = ['gender', 'age', 'admission_source_id', 'medical_specialty',\n",
    "                        'primary_diagnosis', 'max_glu_serum', 'A1Cresult', 'insulin', 'change',\n",
    "                        'diabetesMed', 'medicare', 'medicaid', 'had_emergency', 'had_inpatient_days',\n",
    "                        'had_outpatient_days']\n",
    "\n",
    "encoded_data_train = pd.get_dummies(data_train[features], columns=categorical_features, drop_first=True)\n",
    "encoded_data_test = pd.get_dummies(data_test[features], columns=categorical_features, drop_first=True)\n",
    "\n",
    "# X_train,X_test,X_test,Y_test\n",
    "X_train, Y_train = encoded_data_train, data_train[target]\n",
    "X_test, Y_test = encoded_data_test, data_test[target]\n",
    "\n",
    "# 合并数值型变量到 X_train\n",
    "X_train['time_in_hospital'] = data_train['time_in_hospital']\n",
    "X_train['num_lab_procedures'] = data_train['num_lab_procedures']\n",
    "X_train['num_procedures'] = data_train['num_procedures']\n",
    "X_train['num_medications'] = data_train['num_medications']\n",
    "X_train['number_diagnoses'] = data_train['number_diagnoses']\n",
    "\n",
    "# 合并数值型变量到 X_test\n",
    "X_test['time_in_hospital'] = data_test['time_in_hospital']\n",
    "X_test['num_lab_procedures'] = data_test['num_lab_procedures']\n",
    "X_test['num_procedures'] = data_test['num_procedures']\n",
    "X_test['num_medications'] = data_test['num_medications']\n",
    "X_test['number_diagnoses'] = data_test['number_diagnoses']\n",
    "\n",
    "# Initialize and train the Random Forest classifier\n",
    "rf_classifier = RandomForestClassifier(n_estimators=100, random_state=7)\n",
    "rf_classifier.fit(X_train, Y_train)\n",
    "\n",
    "\n",
    "# Make predictions on the test set\n",
    "y_pred = rf_classifier.predict(X_test)\n",
    "\n",
    "# 添加预测结果到测试数据集中\n",
    "data_test['readmit_30_days_pred'] = y_pred\n",
    "\n",
    "# 将包含预测结果的测试数据集保存到文件\n",
    "data_test.to_csv('Dataset/diabetic_preprocessed_test.csv', index=False)\n",
    "\n",
    "\n",
    "# Evaluate model performance\n",
    "accuracy = accuracy_score(Y_test, y_pred)\n",
    "print(f'Accuracy: {accuracy}')"
   ]
  }
 ],
 "metadata": {
  "kernelspec": {
   "display_name": "tf",
   "language": "python",
   "name": "tf"
  },
  "language_info": {
   "codemirror_mode": {
    "name": "ipython",
    "version": 3
   },
   "file_extension": ".py",
   "mimetype": "text/x-python",
   "name": "python",
   "nbconvert_exporter": "python",
   "pygments_lexer": "ipython3",
   "version": "3.9.18"
  }
 },
 "nbformat": 4,
 "nbformat_minor": 5
}
