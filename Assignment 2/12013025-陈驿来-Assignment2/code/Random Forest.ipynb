{
 "cells": [
  {
   "cell_type": "code",
   "execution_count": 6,
   "id": "355b7436",
   "metadata": {},
   "outputs": [
    {
     "name": "stdout",
     "output_type": "stream",
     "text": [
      "Accuracy in train data: 0.9999370990061643\n",
      "Accuracy in test data: 0.6464888661779447\n"
     ]
    }
   ],
   "source": [
    "import pandas as pd\n",
    "from sklearn.preprocessing import OneHotEncoder\n",
    "from sklearn.ensemble import RandomForestClassifier\n",
    "from sklearn.model_selection import train_test_split\n",
    "from sklearn.metrics import accuracy_score\n",
    "\n",
    "# Load the dataset\n",
    "data_train = pd.read_csv('Dataset/diabetic_preprocessed_train.csv')\n",
    "data_test = pd.read_csv('Dataset/diabetic_preprocessed_test.csv')\n",
    "\n",
    "# Define features and target variable\n",
    "features = ['gender', 'age', 'admission_source_id', 'time_in_hospital', 'medical_specialty',\n",
    "            'num_lab_procedures', 'num_procedures', 'num_medications', 'primary_diagnosis',\n",
    "            'number_diagnoses', 'max_glu_serum', 'A1Cresult', 'insulin', 'change',\n",
    "            'diabetesMed', 'medicare', 'medicaid', 'had_emergency', 'had_inpatient_days',\n",
    "            'had_outpatient_days']\n",
    "target = 'readmit_30_days'\n",
    "\n",
    "# Convert categorical features to one-hot encoding\n",
    "categorical_features = ['gender', 'age', 'admission_source_id', 'medical_specialty',\n",
    "                        'primary_diagnosis', 'max_glu_serum', 'A1Cresult', 'insulin', 'change',\n",
    "                        'diabetesMed', 'medicare', 'medicaid', 'had_emergency', 'had_inpatient_days',\n",
    "                        'had_outpatient_days']\n",
    "\n",
    "encoded_data_train = pd.get_dummies(data_train[features], columns=categorical_features, drop_first=True)\n",
    "encoded_data_test = pd.get_dummies(data_test[features], columns=categorical_features, drop_first=True)\n",
    "\n",
    "# X_train,Y_train,X_test,Y_test\n",
    "X_train, Y_train = encoded_data_train, data_train[target]\n",
    "X_test, Y_test = encoded_data_test, data_test[target]\n",
    "\n",
    "# 合并数值型变量到 X_train\n",
    "X_train['time_in_hospital'] = data_train['time_in_hospital']\n",
    "X_train['num_lab_procedures'] = data_train['num_lab_procedures']\n",
    "X_train['num_procedures'] = data_train['num_procedures']\n",
    "X_train['num_medications'] = data_train['num_medications']\n",
    "X_train['number_diagnoses'] = data_train['number_diagnoses']\n",
    "\n",
    "# 合并数值型变量到 X_test\n",
    "X_test['time_in_hospital'] = data_test['time_in_hospital']\n",
    "X_test['num_lab_procedures'] = data_test['num_lab_procedures']\n",
    "X_test['num_procedures'] = data_test['num_procedures']\n",
    "X_test['num_medications'] = data_test['num_medications']\n",
    "X_test['number_diagnoses'] = data_test['number_diagnoses']\n",
    "\n",
    "# Initialize and train the Random Forest classifier\n",
    "rf_classifier = RandomForestClassifier(n_estimators=100, random_state=7)\n",
    "rf_classifier.fit(X_train, Y_train)\n",
    "\n",
    "\n",
    "# Make predictions on the test set\n",
    "train_pred = rf_classifier.predict(X_train)\n",
    "test_pred = rf_classifier.predict(X_test)\n",
    "\n",
    "# 添加预测结果到测试数据集中\n",
    "data_test['readmit_30_days_pred'] = test_pred\n",
    "\n",
    "# 将包含预测结果的测试数据集保存到文件\n",
    "data_test.to_csv('Dataset/diabetic_preprocessed_test.csv', index=False)\n",
    "\n",
    "\n",
    "# Evaluate model performance\n",
    "a = accuracy_score(Y_train, train_pred)\n",
    "accuracy = accuracy_score(Y_test, test_pred)\n",
    "print(f'Accuracy in train data: {a}')\n",
    "print(f'Accuracy in test data: {accuracy}')"
   ]
  },
  {
   "cell_type": "code",
   "execution_count": null,
   "id": "adfc65cc",
   "metadata": {},
   "outputs": [],
   "source": []
  }
 ],
 "metadata": {
  "kernelspec": {
   "display_name": "tf",
   "language": "python",
   "name": "tf"
  },
  "language_info": {
   "codemirror_mode": {
    "name": "ipython",
    "version": 3
   },
   "file_extension": ".py",
   "mimetype": "text/x-python",
   "name": "python",
   "nbconvert_exporter": "python",
   "pygments_lexer": "ipython3",
   "version": "3.9.18"
  }
 },
 "nbformat": 4,
 "nbformat_minor": 5
}
